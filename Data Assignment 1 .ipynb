{
 "cells": [
  {
   "cell_type": "code",
   "execution_count": 7,
   "metadata": {},
   "outputs": [],
   "source": [
    "import findspark\n",
    "findspark.init()\n",
    "from pyspark.sql import SparkSession\n",
    "\n",
    "spark = SparkSession.builder \\\n",
    "             .appName(\"myapp.com\") \\\n",
    "             .getOrCreate()"
   ]
  },
  {
   "cell_type": "code",
   "execution_count": 8,
   "metadata": {},
   "outputs": [],
   "source": [
    "import pyspark"
   ]
  },
  {
   "cell_type": "code",
   "execution_count": 9,
   "metadata": {},
   "outputs": [],
   "source": [
    "df = spark.read.json(r'C:\\Users\\91810\\Downloads\\Grocery_and_Gourmet_Food_5.json.gz')"
   ]
  },
  {
   "cell_type": "code",
   "execution_count": 10,
   "metadata": {},
   "outputs": [],
   "source": [
    "from pyspark.sql.functions import *"
   ]
  },
  {
   "cell_type": "code",
   "execution_count": 11,
   "metadata": {},
   "outputs": [
    {
     "name": "stdout",
     "output_type": "stream",
     "text": [
      "+----------+-----+-------+--------------------+-----------+--------------+-----------------+-----+--------------------+--------------+--------+----+\n",
      "|      asin|image|overall|          reviewText| reviewTime|    reviewerID|     reviewerName|style|             summary|unixReviewTime|verified|vote|\n",
      "+----------+-----+-------+--------------------+-----------+--------------+-----------------+-----+--------------------+--------------+--------+----+\n",
      "|4639725183| null|    5.0| No adverse comment.|11 19, 2014|A1QVBUH9E1V6I8|   Jamshed Mathur| null|          Five Stars|    1416355200|    true|null|\n",
      "|4639725183| null|    5.0|Gift for college ...|10 13, 2016|A3GEOILWLK86XM|        itsjustme| null|      Great product.|    1476316800|    true|null|\n",
      "|4639725183| null|    5.0|If you like stron...|11 21, 2015|A32RD6L701BIGP|  Krystal Clifton| null|              Strong|    1448064000|    true|null|\n",
      "|4639725183| null|    5.0|Love the tea. The...|08 12, 2015|A2UY1O1FBGKIE6|          U. Kane| null|           Great tea|    1439337600|    true|null|\n",
      "|4639725183| null|    5.0|I have searched e...|05 28, 2015|A3QHVBQYDV7Z6U|         The Nana| null|This is the tea I...|    1432771200|    true|null|\n",
      "|4639725183| null|    4.0|Tea made with Lip...| 05 9, 2015|A14MJZP7H1KHEX|    Carol Ann Nix| null|          Four Stars|    1431129600|    true|null|\n",
      "|4639725183| null|    5.0|I love this tea! ...| 05 7, 2015| A32CQJQBV7YRT|       Corsair174| null|      Love this tea!|    1430956800|    true|null|\n",
      "|4639725183| null|    5.0|Discovered this t...|01 28, 2015|A2EUMXCQHCP25R|         Metajohn| null|           Great tea|    1422403200|    true|null|\n",
      "|4639725183| null|    4.0|Well I bought thi...|12 23, 2014|A3QD1PUOO5I94A|                B| null|Well I bought thi...|    1419292800|    true|null|\n",
      "|4639725183| null|    5.0|We really like th...|12 17, 2014| A9E9L159FFMHP|          S. Wood| null|We really like th...|    1418774400|    true|null|\n",
      "|4639725183| null|    5.0|Hard to find in t...|11 25, 2014|A1B65ENXWAN2SB|     Craig Rokosz| null|       good quality.|    1416873600|    true|null|\n",
      "|4639725043| null|    5.0|I make the best b...|04 29, 2012|A1J205ZK25TZ6W|kez panel project| null|Best for brewed i...|    1335657600|    true|   8|\n",
      "|4639725043| null|    3.0|I have recently s...|04 11, 2008| ACOICLIJQYECU|              N D| null|Not Bad for iced Tea|    1207872000|    true|   9|\n",
      "|4639725043| null|    5.0|I like pretty muc...|03 15, 2017|A29RCQA5G0B1BA| Edward Pendleton| null|   A Great Cuppa...!|    1489536000|    true|null|\n",
      "|4639725043| null|    5.0|I was watching a ...| 03 4, 2017|A34KF6WKUMO0G5|  Kindle Customer| null|Strong for this A...|    1488585600|    true|null|\n",
      "|4639725043| null|    3.0|it was ok, but it...|02 27, 2017|A2AW00VDYVKKKK|    Lou S. Hegwer| null|        not the same|    1488153600|    true|null|\n",
      "|4639725043| null|    5.0|Great taste use i...| 02 2, 2017|A2LNL6MN1OEXAM|         G. Smith| null|Great taste use i...|    1485993600|    true|null|\n",
      "|4639725043| null|    5.0|Best tea for my s...|08 28, 2016|A32TZ4HWVHBYX7|          cowgirl| null|Best tea for my s...|    1472342400|    true|null|\n",
      "|4639725043| null|    4.0|Good tea. Way bet...| 05 8, 2016|A2AGPIWL0G3UQR|   Paul C. Caliri| null|          Four Stars|    1462665600|    true|null|\n",
      "|4639725043| null|    1.0|This tea looks li...|03 11, 2016|A2PMV21JFDKJIU|      shopAholicr| null|does not look any...|    1457654400|    true|null|\n",
      "+----------+-----+-------+--------------------+-----------+--------------+-----------------+-----+--------------------+--------------+--------+----+\n",
      "only showing top 20 rows\n",
      "\n"
     ]
    }
   ],
   "source": [
    "df.show()"
   ]
  },
  {
   "cell_type": "code",
   "execution_count": 12,
   "metadata": {},
   "outputs": [],
   "source": [
    "df_min = df.agg({'overall':'min'})\n",
    "df_min = df_min.withColumnRenamed('min(overall)','Min_rating')"
   ]
  },
  {
   "cell_type": "code",
   "execution_count": 13,
   "metadata": {},
   "outputs": [
    {
     "name": "stdout",
     "output_type": "stream",
     "text": [
      "+----------+\n",
      "|Min_rating|\n",
      "+----------+\n",
      "|       1.0|\n",
      "+----------+\n",
      "\n"
     ]
    }
   ],
   "source": [
    "df_min.show()"
   ]
  },
  {
   "cell_type": "code",
   "execution_count": 14,
   "metadata": {},
   "outputs": [
    {
     "name": "stdout",
     "output_type": "stream",
     "text": [
      "+----------+--------------------+-------+--------------------+-----------+--------------+------------------+--------------------+--------------------+--------------+--------+----+\n",
      "|      asin|               image|overall|          reviewText| reviewTime|    reviewerID|      reviewerName|               style|             summary|unixReviewTime|verified|vote|\n",
      "+----------+--------------------+-------+--------------------+-----------+--------------+------------------+--------------------+--------------------+--------------+--------+----+\n",
      "|4639725043|                null|    1.0|This tea looks li...|03 11, 2016|A2PMV21JFDKJIU|       shopAholicr|                null|does not look any...|    1457654400|    true|null|\n",
      "|4639725043|                null|    1.0|I bought this bec...|04 30, 2013|A2TURHWPQ343WP|                KS|                null|        Disappointed|    1367280000|    true|null|\n",
      "|9742356831|                null|    1.0|Did not say that ...|07 11, 2014| A9BB1RGFI8PP8|        Susan Marx|                null|     Contains shrimp|    1405036800|   false|   3|\n",
      "|B00004S1C5|                null|    1.0|This product is n...|03 29, 2013|A14YSMLYLJEMET|   Tamika Anderson|                null|Not natural/organ...|    1364515200|    true|  12|\n",
      "|B00005BPQ9|                null|    1.0|I love malted mil...|02 12, 2017| AUCISQA1YXX86|       Confederate|{null, null, null...|Poor Quality...Po...|    1486857600|   false|null|\n",
      "|B00005IX97|                null|    1.0|STAY AWAY FROM OR...|11 28, 2007|A1E4ERFN67OMJY|               ahl|{null, null, null...|LATE..OUTDATED..6...|    1196208000|   false|   2|\n",
      "|B00005OTYO|                null|    1.0|This is the dirti...|11 10, 2008|A21ESIT8E234BO|               slb|                null|          Dirty Salt|    1226275200|   false|  27|\n",
      "|B00005OTYO|                null|    1.0|This is the first...|05 18, 2010|A1WRXBC5YXQYE3|   Kindle Customer|                null|    Glass and Rocks?|    1274140800|    true|  35|\n",
      "|B00006BN4U|                null|    1.0|I found this bar ...|07 10, 2008| AZAKCIFE27RAA|       Chicago Gal|{null, null, null...|   Not for my taste!|    1215648000|   false|   2|\n",
      "|B00006FMLY|                null|    1.0|Don't get excited...|06 28, 2015|A1FTQGPC5S6WFF|                 G|{null,  Animals &...|Don't get excited...|    1435449600|    true|   2|\n",
      "|B00006FMLY|                null|    1.0|Expire? Mine's ev...| 02 9, 2015| AZ6ZLFEOQSMTT|                 E|{null,  Animals &...|no dates on the p...|    1423440000|    true|   2|\n",
      "|B00006FMLY|                null|    1.0|I ordered these a...|06 17, 2013|A2WLS1TTUUGJYU|jipsii M&#039;Sina|{null,  Multi-Non...|Not nearly as pre...|    1371427200|    true|   2|\n",
      "|B00006G930|                null|    1.0|This came in a pl...| 03 1, 2013|A2SU8X56PN90CM|          D. Dukky|{null, null, null...|           real crap|    1362096000|    true|null|\n",
      "|B00006IDK9|                null|    1.0|I ordered the cas...|02 13, 2014|A1R7FCNOFPMKZS|              Lark|{null, null, null...|       All broken!!!|    1392249600|    true|null|\n",
      "|B00006IDK9|                null|    1.0|I used to have th...|09 16, 2013|A10IRGY2RUZ6MW|                AG|{null, null, null...|Is this different...|    1379289600|    true|null|\n",
      "|B00008CQRK|                null|    1.0|    Tasted terrible.|03 21, 2017|A3N2HGWFMPEYMB|            xjag33|{null, null, null...|            One Star|    1490054400|    true|null|\n",
      "|B00008CQRK|                null|    1.0|Nothing like the ...| 06 3, 2016|A2X3QRCZNJNAQ8|               JBA|{null, null, null...|            One Star|    1464912000|    true|null|\n",
      "|B00008CQRK|                null|    1.0|The expiry date i...|10 15, 2015|A1VA314WEF5XA6|         M. Berman|{null, null, null...|The expiry date i...|    1444867200|    true|null|\n",
      "|B00008CQRK|                null|    1.0|My husband and I ...| 12 8, 2013|A2FYXJ39211NKU|           Marilyn|{null, null, null...|Disappointed with...|    1386460800|    true|null|\n",
      "|B00008RCN8|[https://images-n...|    1.0|Good taste, for a...|03 17, 2018| AZMY6E8B52L2T|                JP|{null, null, null...|Goes Tasteless So...|    1521244800|   false|null|\n",
      "+----------+--------------------+-------+--------------------+-----------+--------------+------------------+--------------------+--------------------+--------------+--------+----+\n",
      "only showing top 20 rows\n",
      "\n"
     ]
    }
   ],
   "source": [
    "df.filter(df.overall == df_min.first().Min_rating).show()"
   ]
  },
  {
   "cell_type": "code",
   "execution_count": 15,
   "metadata": {},
   "outputs": [],
   "source": [
    "df_max = df.agg({'overall':'max'})\n",
    "df_max = df_max.withColumnRenamed('max(overall)','Max_rating')"
   ]
  },
  {
   "cell_type": "code",
   "execution_count": 16,
   "metadata": {},
   "outputs": [
    {
     "name": "stdout",
     "output_type": "stream",
     "text": [
      "+----------+\n",
      "|Max_rating|\n",
      "+----------+\n",
      "|       5.0|\n",
      "+----------+\n",
      "\n"
     ]
    }
   ],
   "source": [
    "df_max.show()"
   ]
  },
  {
   "cell_type": "code",
   "execution_count": 17,
   "metadata": {},
   "outputs": [
    {
     "name": "stdout",
     "output_type": "stream",
     "text": [
      "+----------+-----+-------+--------------------+-----------+--------------+-----------------+-----+--------------------+--------------+--------+----+\n",
      "|      asin|image|overall|          reviewText| reviewTime|    reviewerID|     reviewerName|style|             summary|unixReviewTime|verified|vote|\n",
      "+----------+-----+-------+--------------------+-----------+--------------+-----------------+-----+--------------------+--------------+--------+----+\n",
      "|4639725183| null|    5.0| No adverse comment.|11 19, 2014|A1QVBUH9E1V6I8|   Jamshed Mathur| null|          Five Stars|    1416355200|    true|null|\n",
      "|4639725183| null|    5.0|Gift for college ...|10 13, 2016|A3GEOILWLK86XM|        itsjustme| null|      Great product.|    1476316800|    true|null|\n",
      "|4639725183| null|    5.0|If you like stron...|11 21, 2015|A32RD6L701BIGP|  Krystal Clifton| null|              Strong|    1448064000|    true|null|\n",
      "|4639725183| null|    5.0|Love the tea. The...|08 12, 2015|A2UY1O1FBGKIE6|          U. Kane| null|           Great tea|    1439337600|    true|null|\n",
      "|4639725183| null|    5.0|I have searched e...|05 28, 2015|A3QHVBQYDV7Z6U|         The Nana| null|This is the tea I...|    1432771200|    true|null|\n",
      "|4639725183| null|    5.0|I love this tea! ...| 05 7, 2015| A32CQJQBV7YRT|       Corsair174| null|      Love this tea!|    1430956800|    true|null|\n",
      "|4639725183| null|    5.0|Discovered this t...|01 28, 2015|A2EUMXCQHCP25R|         Metajohn| null|           Great tea|    1422403200|    true|null|\n",
      "|4639725183| null|    5.0|We really like th...|12 17, 2014| A9E9L159FFMHP|          S. Wood| null|We really like th...|    1418774400|    true|null|\n",
      "|4639725183| null|    5.0|Hard to find in t...|11 25, 2014|A1B65ENXWAN2SB|     Craig Rokosz| null|       good quality.|    1416873600|    true|null|\n",
      "|4639725043| null|    5.0|I make the best b...|04 29, 2012|A1J205ZK25TZ6W|kez panel project| null|Best for brewed i...|    1335657600|    true|   8|\n",
      "|4639725043| null|    5.0|I like pretty muc...|03 15, 2017|A29RCQA5G0B1BA| Edward Pendleton| null|   A Great Cuppa...!|    1489536000|    true|null|\n",
      "|4639725043| null|    5.0|I was watching a ...| 03 4, 2017|A34KF6WKUMO0G5|  Kindle Customer| null|Strong for this A...|    1488585600|    true|null|\n",
      "|4639725043| null|    5.0|Great taste use i...| 02 2, 2017|A2LNL6MN1OEXAM|         G. Smith| null|Great taste use i...|    1485993600|    true|null|\n",
      "|4639725043| null|    5.0|Best tea for my s...|08 28, 2016|A32TZ4HWVHBYX7|          cowgirl| null|Best tea for my s...|    1472342400|    true|null|\n",
      "|4639725043| null|    5.0|             OK tea.|02 11, 2016|A1WWHO8B64HCLN|         ALFRED W| null|                 TEA|    1455148800|    true|null|\n",
      "|4639725043| null|    5.0|My second favorit...|08 24, 2015|A3ALL8JW7604P7|             Sven| null|Good Stuff for th...|    1440374400|    true|null|\n",
      "|4639725043| null|    5.0|Excellent product...|08 22, 2015|A1A5GOE5E7BL9S| Gerald D. Schrag| null|   Excellent product|    1440201600|    true|null|\n",
      "|4639725043| null|    5.0|Half yellow label...| 08 2, 2015| AIE6PS00ZD2NL| Thomas B. miller| null|... black tea bre...|    1438473600|    true|null|\n",
      "|4639725043| null|    5.0|           excellent| 07 4, 2015|A19XLYBG7REBLS|Mohammed Siddiqui| null|          Five Stars|    1435968000|    true|null|\n",
      "|4639725043| null|    5.0|I wrote the revie...| 12 8, 2014|A1D0F8HAZ66ZPY|       kit carson| null|yellow label good...|    1417996800|    true|null|\n",
      "+----------+-----+-------+--------------------+-----------+--------------+-----------------+-----+--------------------+--------------+--------+----+\n",
      "only showing top 20 rows\n",
      "\n"
     ]
    }
   ],
   "source": [
    "df.filter(df.overall == df_max.first().Max_rating).show()"
   ]
  },
  {
   "cell_type": "code",
   "execution_count": 18,
   "metadata": {},
   "outputs": [],
   "source": [
    "df_max_length = df.withColumn(\"len_Description\",length(col(\"reviewText\"))).groupBy().max(\"len_Description\")"
   ]
  },
  {
   "cell_type": "code",
   "execution_count": 19,
   "metadata": {},
   "outputs": [],
   "source": [
    "df_max_length = df_max_length.withColumnRenamed('max(len_Description)','Max_Length')"
   ]
  },
  {
   "cell_type": "code",
   "execution_count": 20,
   "metadata": {},
   "outputs": [
    {
     "data": {
      "text/plain": [
       "19057"
      ]
     },
     "execution_count": 20,
     "metadata": {},
     "output_type": "execute_result"
    }
   ],
   "source": [
    "df_max_length.first().Max_Length"
   ]
  },
  {
   "cell_type": "code",
   "execution_count": 21,
   "metadata": {},
   "outputs": [],
   "source": [
    "df = df.withColumn('text_length',length(col('reviewText')))\n",
    "df = df.filter(df.text_length.isNotNull())\n",
    "df_final = df.filter(df.text_length == df_max_length.first().Max_Length)\n"
   ]
  },
  {
   "cell_type": "code",
   "execution_count": 22,
   "metadata": {
    "scrolled": true
   },
   "outputs": [
    {
     "name": "stdout",
     "output_type": "stream",
     "text": [
      "+----------+-----+-------+--------------------+-----------+-------------+------------+-----+--------------------+--------------+--------+----+-----------+\n",
      "|      asin|image|overall|          reviewText| reviewTime|   reviewerID|reviewerName|style|             summary|unixReviewTime|verified|vote|text_length|\n",
      "+----------+-----+-------+--------------------+-----------+-------------+------------+-----+--------------------+--------------+--------+----+-----------+\n",
      "|B001DEX99Q| null|    2.0|I am a sweet-ahol...|10 15, 2009|AJNJNA093JUW0|Serendipity.| null|The Real Review o...|    1255564800|    true|  95|      19057|\n",
      "+----------+-----+-------+--------------------+-----------+-------------+------------+-----+--------------------+--------------+--------+----+-----------+\n",
      "\n"
     ]
    }
   ],
   "source": [
    "df_final.show()"
   ]
  },
  {
   "cell_type": "code",
   "execution_count": 23,
   "metadata": {},
   "outputs": [
    {
     "data": {
      "text/plain": [
       "1416355200"
      ]
     },
     "execution_count": 23,
     "metadata": {},
     "output_type": "execute_result"
    }
   ],
   "source": [
    "df.first().unixReviewTime"
   ]
  },
  {
   "cell_type": "code",
   "execution_count": 24,
   "metadata": {},
   "outputs": [
    {
     "name": "stdout",
     "output_type": "stream",
     "text": [
      "+----------+-----+-------+--------------------+-----------+--------------+-----------------+-----+--------------------+--------------+--------+----+-----------+--------------+\n",
      "|      asin|image|overall|          reviewText| reviewTime|    reviewerID|     reviewerName|style|             summary|unixReviewTime|verified|vote|text_length|date_formatted|\n",
      "+----------+-----+-------+--------------------+-----------+--------------+-----------------+-----+--------------------+--------------+--------+----+-----------+--------------+\n",
      "|4639725183| null|    5.0| No adverse comment.|11 19, 2014|A1QVBUH9E1V6I8|   Jamshed Mathur| null|          Five Stars|    1416355200|    true|null|         19|    11-19-2014|\n",
      "|4639725183| null|    5.0|Gift for college ...|10 13, 2016|A3GEOILWLK86XM|        itsjustme| null|      Great product.|    1476316800|    true|null|         25|    10-13-2016|\n",
      "|4639725183| null|    5.0|If you like stron...|11 21, 2015|A32RD6L701BIGP|  Krystal Clifton| null|              Strong|    1448064000|    true|null|         85|    11-21-2015|\n",
      "|4639725183| null|    5.0|Love the tea. The...|08 12, 2015|A2UY1O1FBGKIE6|          U. Kane| null|           Great tea|    1439337600|    true|null|        100|    08-12-2015|\n",
      "|4639725183| null|    5.0|I have searched e...|05 28, 2015|A3QHVBQYDV7Z6U|         The Nana| null|This is the tea I...|    1432771200|    true|null|        214|    05-28-2015|\n",
      "|4639725183| null|    4.0|Tea made with Lip...| 05 9, 2015|A14MJZP7H1KHEX|    Carol Ann Nix| null|          Four Stars|    1431129600|    true|null|         99|    05-09-2015|\n",
      "|4639725183| null|    5.0|I love this tea! ...| 05 7, 2015| A32CQJQBV7YRT|       Corsair174| null|      Love this tea!|    1430956800|    true|null|        455|    05-07-2015|\n",
      "|4639725183| null|    5.0|Discovered this t...|01 28, 2015|A2EUMXCQHCP25R|         Metajohn| null|           Great tea|    1422403200|    true|null|        211|    01-28-2015|\n",
      "|4639725183| null|    4.0|Well I bought thi...|12 23, 2014|A3QD1PUOO5I94A|                B| null|Well I bought thi...|    1419292800|    true|null|        872|    12-23-2014|\n",
      "|4639725183| null|    5.0|We really like th...|12 17, 2014| A9E9L159FFMHP|          S. Wood| null|We really like th...|    1418774400|    true|null|        325|    12-17-2014|\n",
      "|4639725183| null|    5.0|Hard to find in t...|11 25, 2014|A1B65ENXWAN2SB|     Craig Rokosz| null|       good quality.|    1416873600|    true|null|         63|    11-25-2014|\n",
      "|4639725043| null|    5.0|I make the best b...|04 29, 2012|A1J205ZK25TZ6W|kez panel project| null|Best for brewed i...|    1335657600|    true|   8|        415|    04-29-2012|\n",
      "|4639725043| null|    3.0|I have recently s...|04 11, 2008| ACOICLIJQYECU|              N D| null|Not Bad for iced Tea|    1207872000|    true|   9|        904|    04-11-2008|\n",
      "|4639725043| null|    5.0|I like pretty muc...|03 15, 2017|A29RCQA5G0B1BA| Edward Pendleton| null|   A Great Cuppa...!|    1489536000|    true|null|        132|    03-15-2017|\n",
      "|4639725043| null|    5.0|I was watching a ...| 03 4, 2017|A34KF6WKUMO0G5|  Kindle Customer| null|Strong for this A...|    1488585600|    true|null|        474|    03-04-2017|\n",
      "|4639725043| null|    3.0|it was ok, but it...|02 27, 2017|A2AW00VDYVKKKK|    Lou S. Hegwer| null|        not the same|    1488153600|    true|null|        127|    02-27-2017|\n",
      "|4639725043| null|    5.0|Great taste use i...| 02 2, 2017|A2LNL6MN1OEXAM|         G. Smith| null|Great taste use i...|    1485993600|    true|null|        144|    02-02-2017|\n",
      "|4639725043| null|    5.0|Best tea for my s...|08 28, 2016|A32TZ4HWVHBYX7|          cowgirl| null|Best tea for my s...|    1472342400|    true|null|        146|    08-28-2016|\n",
      "|4639725043| null|    4.0|Good tea. Way bet...| 05 8, 2016|A2AGPIWL0G3UQR|   Paul C. Caliri| null|          Four Stars|    1462665600|    true|null|        570|    05-08-2016|\n",
      "|4639725043| null|    1.0|This tea looks li...|03 11, 2016|A2PMV21JFDKJIU|      shopAholicr| null|does not look any...|    1457654400|    true|null|         68|    03-11-2016|\n",
      "+----------+-----+-------+--------------------+-----------+--------------+-----------------+-----+--------------------+--------------+--------+----+-----------+--------------+\n",
      "only showing top 20 rows\n",
      "\n"
     ]
    }
   ],
   "source": [
    "df.withColumn('date_formatted',date_format(lit(from_unixtime(col(\"unixReviewTime\")).cast('date')),'MM-dd-yyyy')).show()"
   ]
  },
  {
   "cell_type": "code",
   "execution_count": 38,
   "metadata": {},
   "outputs": [],
   "source": [
    "df.write.mode('append').parquet(\"/tmp/output/people.parquet\")"
   ]
  }
 ],
 "metadata": {
  "kernelspec": {
   "display_name": "Python 3 (ipykernel)",
   "language": "python",
   "name": "python3"
  },
  "language_info": {
   "codemirror_mode": {
    "name": "ipython",
    "version": 3
   },
   "file_extension": ".py",
   "mimetype": "text/x-python",
   "name": "python",
   "nbconvert_exporter": "python",
   "pygments_lexer": "ipython3",
   "version": "3.11.5"
  }
 },
 "nbformat": 4,
 "nbformat_minor": 2
}
