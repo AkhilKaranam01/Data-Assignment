{
 "cells": [
  {
   "cell_type": "code",
   "execution_count": 7,
   "metadata": {},
   "outputs": [],
   "source": [
    "# Initialize findspark to use Spark in a Jupyter Notebook or outside a Spark cluster\n",
    "import findspark\n",
    "findspark.init()\n",
    "\n",
    "# Import necessary SparkSession and functions\n",
    "from pyspark.sql import SparkSession\n",
    "from pyspark.sql.functions import *\n",
    "\n",
    "# Create a Spark session\n",
    "spark = SparkSession.builder \\\n",
    "    .appName(\"MySQLConnection\") \\\n",
    "    .config(\"spark.jars\", r\"C:\\Users\\91810\\OneDrive\\Desktop\\Spark installation Folder\\mysql-connector-java-8.0.13.jar\") \\\n",
    "    .getOrCreate()"
   ]
  },
  {
   "cell_type": "code",
   "execution_count": 9,
   "metadata": {},
   "outputs": [],
   "source": [
    "# Read a JSON file into a DataFrame\n",
    "df = spark.read.json(r'C:\\Users\\91810\\Downloads\\Grocery_and_Gourmet_Food_5.json.gz')"
   ]
  },
  {
   "cell_type": "code",
   "execution_count": 10,
   "metadata": {
    "scrolled": true
   },
   "outputs": [
    {
     "name": "stdout",
     "output_type": "stream",
     "text": [
      "+----------+-----+-------+--------------------+-----------+--------------+-----------------+-----+--------------------+--------------+--------+----+\n",
      "|      asin|image|overall|          reviewText| reviewTime|    reviewerID|     reviewerName|style|             summary|unixReviewTime|verified|vote|\n",
      "+----------+-----+-------+--------------------+-----------+--------------+-----------------+-----+--------------------+--------------+--------+----+\n",
      "|4639725183| null|    5.0| No adverse comment.|11 19, 2014|A1QVBUH9E1V6I8|   Jamshed Mathur| null|          Five Stars|    1416355200|    true|null|\n",
      "|4639725183| null|    5.0|Gift for college ...|10 13, 2016|A3GEOILWLK86XM|        itsjustme| null|      Great product.|    1476316800|    true|null|\n",
      "|4639725183| null|    5.0|If you like stron...|11 21, 2015|A32RD6L701BIGP|  Krystal Clifton| null|              Strong|    1448064000|    true|null|\n",
      "|4639725183| null|    5.0|Love the tea. The...|08 12, 2015|A2UY1O1FBGKIE6|          U. Kane| null|           Great tea|    1439337600|    true|null|\n",
      "|4639725183| null|    5.0|I have searched e...|05 28, 2015|A3QHVBQYDV7Z6U|         The Nana| null|This is the tea I...|    1432771200|    true|null|\n",
      "|4639725183| null|    4.0|Tea made with Lip...| 05 9, 2015|A14MJZP7H1KHEX|    Carol Ann Nix| null|          Four Stars|    1431129600|    true|null|\n",
      "|4639725183| null|    5.0|I love this tea! ...| 05 7, 2015| A32CQJQBV7YRT|       Corsair174| null|      Love this tea!|    1430956800|    true|null|\n",
      "|4639725183| null|    5.0|Discovered this t...|01 28, 2015|A2EUMXCQHCP25R|         Metajohn| null|           Great tea|    1422403200|    true|null|\n",
      "|4639725183| null|    4.0|Well I bought thi...|12 23, 2014|A3QD1PUOO5I94A|                B| null|Well I bought thi...|    1419292800|    true|null|\n",
      "|4639725183| null|    5.0|We really like th...|12 17, 2014| A9E9L159FFMHP|          S. Wood| null|We really like th...|    1418774400|    true|null|\n",
      "|4639725183| null|    5.0|Hard to find in t...|11 25, 2014|A1B65ENXWAN2SB|     Craig Rokosz| null|       good quality.|    1416873600|    true|null|\n",
      "|4639725043| null|    5.0|I make the best b...|04 29, 2012|A1J205ZK25TZ6W|kez panel project| null|Best for brewed i...|    1335657600|    true|   8|\n",
      "|4639725043| null|    3.0|I have recently s...|04 11, 2008| ACOICLIJQYECU|              N D| null|Not Bad for iced Tea|    1207872000|    true|   9|\n",
      "|4639725043| null|    5.0|I like pretty muc...|03 15, 2017|A29RCQA5G0B1BA| Edward Pendleton| null|   A Great Cuppa...!|    1489536000|    true|null|\n",
      "|4639725043| null|    5.0|I was watching a ...| 03 4, 2017|A34KF6WKUMO0G5|  Kindle Customer| null|Strong for this A...|    1488585600|    true|null|\n",
      "|4639725043| null|    3.0|it was ok, but it...|02 27, 2017|A2AW00VDYVKKKK|    Lou S. Hegwer| null|        not the same|    1488153600|    true|null|\n",
      "|4639725043| null|    5.0|Great taste use i...| 02 2, 2017|A2LNL6MN1OEXAM|         G. Smith| null|Great taste use i...|    1485993600|    true|null|\n",
      "|4639725043| null|    5.0|Best tea for my s...|08 28, 2016|A32TZ4HWVHBYX7|          cowgirl| null|Best tea for my s...|    1472342400|    true|null|\n",
      "|4639725043| null|    4.0|Good tea. Way bet...| 05 8, 2016|A2AGPIWL0G3UQR|   Paul C. Caliri| null|          Four Stars|    1462665600|    true|null|\n",
      "|4639725043| null|    1.0|This tea looks li...|03 11, 2016|A2PMV21JFDKJIU|      shopAholicr| null|does not look any...|    1457654400|    true|null|\n",
      "+----------+-----+-------+--------------------+-----------+--------------+-----------------+-----+--------------------+--------------+--------+----+\n",
      "only showing top 20 rows\n",
      "\n"
     ]
    }
   ],
   "source": [
    "# Show the contents of the DataFrame\n",
    "df.show()"
   ]
  },
  {
   "cell_type": "code",
   "execution_count": 11,
   "metadata": {},
   "outputs": [],
   "source": [
    "# Convert the 'unixReviewTime' column to a formatted date and create a new column 'date_formatted'\n",
    "\n",
    "df = df.withColumn('date_formatted',date_format(lit(from_unixtime(col(\"unixReviewTime\")).cast('date')),'MM-dd-yyyy'))"
   ]
  },
  {
   "cell_type": "code",
   "execution_count": 12,
   "metadata": {},
   "outputs": [],
   "source": [
    "# Drop the 'image' and 'style' columns\n",
    "df = df.drop('image','style')"
   ]
  },
  {
   "cell_type": "code",
   "execution_count": 13,
   "metadata": {},
   "outputs": [],
   "source": [
    "# Define connection properties for MySQL\n",
    "\n",
    "properties = {\n",
    "    \"user\": \"root\",                 # MySQL username\n",
    "    \"password\": \"2c;%z-AU,9jL1M/\",  # MySQL password\n",
    "    \"driver\": \"com.mysql.cj.jdbc.Driver\"   # MySQL JDBC driver\n",
    "}\n",
    "\n",
    "# Write the DataFrame to the MySQL database\n",
    "\n",
    "df.write.jdbc(url=\"jdbc:mysql://localhost:3306/review_test\",  # JDBC URL\n",
    "              table=\"reviews\",                                # Table name in the database\n",
    "              mode=\"overwrite\",                               # Write mode (overwrite in this case)\n",
    "              properties=properties)                          # Connection properties"
   ]
  }
 ],
 "metadata": {
  "kernelspec": {
   "display_name": "Python 3 (ipykernel)",
   "language": "python",
   "name": "python3"
  },
  "language_info": {
   "codemirror_mode": {
    "name": "ipython",
    "version": 3
   },
   "file_extension": ".py",
   "mimetype": "text/x-python",
   "name": "python",
   "nbconvert_exporter": "python",
   "pygments_lexer": "ipython3",
   "version": "3.11.5"
  }
 },
 "nbformat": 4,
 "nbformat_minor": 2
}
